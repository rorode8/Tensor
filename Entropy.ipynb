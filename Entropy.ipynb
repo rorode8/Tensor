{
 "cells": [
  {
   "cell_type": "code",
   "execution_count": 41,
   "id": "shared-proxy",
   "metadata": {},
   "outputs": [],
   "source": [
    "import pandas as pd\n",
    "import numpy as np\n",
    "import itertools\n",
    "import math\n",
    "#read data\n",
    "ycol = 'Play'\n",
    "dftrain = pd.read_csv('data.csv')\n",
    "y_train = dftrain.pop(ycol)      #column to predict"
   ]
  },
  {
   "cell_type": "code",
   "execution_count": 42,
   "id": "intense-paint",
   "metadata": {},
   "outputs": [
    {
     "data": {
      "text/plain": [
       "0      No\n",
       "1      No\n",
       "2     Yes\n",
       "3     Yes\n",
       "4     Yes\n",
       "5      No\n",
       "6     Yes\n",
       "7      No\n",
       "8     Yes\n",
       "9     Yes\n",
       "10    Yes\n",
       "11    Yes\n",
       "12    Yes\n",
       "13     No\n",
       "Name: Play, dtype: object"
      ]
     },
     "execution_count": 42,
     "metadata": {},
     "output_type": "execute_result"
    }
   ],
   "source": [
    "y_train "
   ]
  },
  {
   "cell_type": "code",
   "execution_count": 43,
   "id": "conventional-evanescence",
   "metadata": {},
   "outputs": [
    {
     "data": {
      "text/plain": [
       "['Outlook', 'Temperature', 'Humidity', 'Windy']"
      ]
     },
     "execution_count": 43,
     "metadata": {},
     "output_type": "execute_result"
    }
   ],
   "source": [
    "list(dftrain.columns)"
   ]
  },
  {
   "cell_type": "code",
   "execution_count": 44,
   "id": "annoying-pursuit",
   "metadata": {},
   "outputs": [
    {
     "name": "stdout",
     "output_type": "stream",
     "text": [
      "Yes\n",
      "x\n"
     ]
    }
   ],
   "source": [
    "print(y_train.at[2])\n",
    "print('x')"
   ]
  },
  {
   "cell_type": "code",
   "execution_count": 45,
   "id": "sought-spiritual",
   "metadata": {},
   "outputs": [
    {
     "name": "stdout",
     "output_type": "stream",
     "text": [
      "['No' 'Yes']\n"
     ]
    }
   ],
   "source": [
    "#get unique values for y column\n",
    "vocab = y_train.unique()\n",
    "print(vocab)"
   ]
  },
  {
   "cell_type": "code",
   "execution_count": 46,
   "id": "seeing-amplifier",
   "metadata": {},
   "outputs": [
    {
     "name": "stdout",
     "output_type": "stream",
     "text": [
      "fir: 5/14\n",
      "tuple: ('Sunny', 'No')\n",
      "3/5\n",
      "tuple: ('Sunny', 'Yes')\n",
      "2/5\n",
      "0.3467680694480959\n",
      "fir: 4/14\n",
      "tuple: ('Overcast', 'No')\n",
      "0/4\n",
      "tuple: ('Overcast', 'Yes')\n",
      "4/4\n",
      "0.3467680694480959\n",
      "fir: 5/14\n",
      "tuple: ('Rainy', 'No')\n",
      "2/5\n",
      "tuple: ('Rainy', 'Yes')\n",
      "3/5\n",
      "0.6935361388961918\n",
      "['Sunny' 'Overcast' 'Rainy']\n",
      "fir: 4/14\n",
      "tuple: ('Hot', 'No')\n",
      "2/4\n",
      "tuple: ('Hot', 'Yes')\n",
      "2/4\n",
      "0.2857142857142857\n",
      "fir: 6/14\n",
      "tuple: ('Mild', 'No')\n",
      "2/6\n",
      "tuple: ('Mild', 'Yes')\n",
      "4/6\n",
      "0.6792696431662097\n",
      "fir: 4/14\n",
      "tuple: ('Cool', 'No')\n",
      "1/4\n",
      "tuple: ('Cool', 'Yes')\n",
      "3/4\n",
      "0.9110633930116763\n",
      "['Hot' 'Mild' 'Cool']\n",
      "fir: 7/14\n",
      "tuple: ('High', 'No')\n",
      "4/7\n",
      "tuple: ('High', 'Yes')\n",
      "3/7\n",
      "0.4926140680171258\n",
      "fir: 7/14\n",
      "tuple: ('Normal', 'No')\n",
      "1/7\n",
      "tuple: ('Normal', 'Yes')\n",
      "6/7\n",
      "0.7884504573082896\n",
      "['High' 'Normal']\n",
      "fir: 8/14\n",
      "tuple: ('F', 'No')\n",
      "2/8\n",
      "tuple: ('F', 'Yes')\n",
      "6/8\n",
      "0.46358749969093305\n",
      "fir: 6/14\n",
      "tuple: ('T', 'No')\n",
      "3/6\n",
      "tuple: ('T', 'Yes')\n",
      "3/6\n",
      "0.8921589282623617\n",
      "['F' 'T']\n"
     ]
    }
   ],
   "source": [
    "entropy = {}\n",
    "for key, value in dftrain.iteritems():\n",
    "    datos = dftrain[key].unique()\n",
    "    cuenta = {}\n",
    "    cuentaTups = {}\n",
    "    tuplas = itertools.product(datos,vocab)\n",
    "    for d in datos:\n",
    "        cuenta[d]=0\n",
    "    for t in tuplas:\n",
    "        tup = tuple(t)\n",
    "        cuentaTups[tup] = 0\n",
    "    for index, row in dftrain.iterrows():\n",
    "        cuenta[row[key]]+=1\n",
    "        tup = tuple([row[key],str(y_train[index])])\n",
    "        cuentaTups[tup]+=1\n",
    "        \n",
    "    n=sum(cuenta.values())\n",
    "    ent = 0\n",
    "    \n",
    "    for k in cuenta:\n",
    "        fir = cuenta[k]/n\n",
    "        print(\"fir: \"+str(cuenta[k])+'/'+str(n))\n",
    "        sec=0\n",
    "        for y in vocab:\n",
    "            tup = tuple([k,y])\n",
    "            print('tuple: '+str(tup))\n",
    "            print(str(cuentaTups[tup])+'/'+str(cuenta[k]))\n",
    "            \n",
    "            if(cuentaTups[tup] == 0 or cuentaTups[tup] == cuenta[k]):\n",
    "                sec = 0\n",
    "            else:\n",
    "                \n",
    "                sec += (cuentaTups[tup]/cuenta[k])*math.log2((cuentaTups[tup]/cuenta[k]))\n",
    "        ent=ent +(fir *(-1)*(sec))\n",
    "        print(ent)\n",
    "    entropy[key]=ent\n",
    "        \n",
    "        \n",
    "    print(datos)"
   ]
  },
  {
   "cell_type": "code",
   "execution_count": 47,
   "id": "applicable-lancaster",
   "metadata": {},
   "outputs": [
    {
     "name": "stdout",
     "output_type": "stream",
     "text": [
      "{'Outlook': 0.6935361388961918, 'Temperature': 0.9110633930116763, 'Humidity': 0.7884504573082896, 'Windy': 0.8921589282623617}\n"
     ]
    }
   ],
   "source": [
    "print(entropy)"
   ]
  },
  {
   "cell_type": "code",
   "execution_count": null,
   "id": "macro-lottery",
   "metadata": {},
   "outputs": [],
   "source": []
  }
 ],
 "metadata": {
  "kernelspec": {
   "display_name": "Python 3",
   "language": "python",
   "name": "python3"
  },
  "language_info": {
   "codemirror_mode": {
    "name": "ipython",
    "version": 3
   },
   "file_extension": ".py",
   "mimetype": "text/x-python",
   "name": "python",
   "nbconvert_exporter": "python",
   "pygments_lexer": "ipython3",
   "version": "3.8.5"
  }
 },
 "nbformat": 4,
 "nbformat_minor": 5
}
